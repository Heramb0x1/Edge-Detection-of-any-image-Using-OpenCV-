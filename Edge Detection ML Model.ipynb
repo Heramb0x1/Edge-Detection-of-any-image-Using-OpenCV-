{
 "cells": [
  {
   "cell_type": "code",
   "execution_count": null,
   "id": "52df6e4d",
   "metadata": {},
   "outputs": [],
   "source": [
    "#Made By @Heramb.0X1\n",
    "#DMs Are Open : https://www.linkedin.com/in/heramb0x1/"
   ]
  },
  {
   "cell_type": "code",
   "execution_count": 1,
   "id": "738dbfa6",
   "metadata": {},
   "outputs": [],
   "source": [
    "import cv2"
   ]
  },
  {
   "cell_type": "code",
   "execution_count": 2,
   "id": "52c10d5f",
   "metadata": {},
   "outputs": [
    {
     "name": "stdout",
     "output_type": "stream",
     "text": [
      "Requirement already satisfied: opencv-contrib-python in c:\\users\\3162f\\anaconda3\\lib\\site-packages (4.8.1.78)\n",
      "Requirement already satisfied: numpy>=1.21.2 in c:\\users\\3162f\\anaconda3\\lib\\site-packages (from opencv-contrib-python) (1.24.3)\n"
     ]
    }
   ],
   "source": [
    "!pip install opencv-contrib-python"
   ]
  },
  {
   "cell_type": "code",
   "execution_count": 3,
   "id": "eca0b00a",
   "metadata": {},
   "outputs": [],
   "source": [
    "img = cv2.imread(\"D:\\OpenCV (CV-Computer Vision) Project\\child.jpg\")"
   ]
  },
  {
   "cell_type": "code",
   "execution_count": 4,
   "id": "44d9df72",
   "metadata": {},
   "outputs": [
    {
     "name": "stdout",
     "output_type": "stream",
     "text": [
      "[[[  1 109 191]\n",
      "  [  1 109 191]\n",
      "  [  1 109 191]\n",
      "  ...\n",
      "  [  2 108 191]\n",
      "  [  1 108 189]\n",
      "  [  0 108 189]]\n",
      "\n",
      " [[  1 109 191]\n",
      "  [  1 109 191]\n",
      "  [  1 109 191]\n",
      "  ...\n",
      "  [  2 108 191]\n",
      "  [  0 108 189]\n",
      "  [  0 108 189]]\n",
      "\n",
      " [[  1 109 191]\n",
      "  [  1 109 191]\n",
      "  [  1 109 191]\n",
      "  ...\n",
      "  [  2 108 191]\n",
      "  [  0 108 189]\n",
      "  [  0 108 189]]\n",
      "\n",
      " ...\n",
      "\n",
      " [[  1 102 181]\n",
      "  [  2 103 182]\n",
      "  [  2 103 182]\n",
      "  ...\n",
      "  [  2 103 182]\n",
      "  [  2 103 182]\n",
      "  [  2 103 182]]\n",
      "\n",
      " [[  0 103 182]\n",
      "  [  0 103 182]\n",
      "  [  0 103 182]\n",
      "  ...\n",
      "  [  2 103 182]\n",
      "  [  1 102 181]\n",
      "  [  1 102 181]]\n",
      "\n",
      " [[  0 103 182]\n",
      "  [  0 103 182]\n",
      "  [  0 103 182]\n",
      "  ...\n",
      "  [  2 103 182]\n",
      "  [  1 102 181]\n",
      "  [  1 102 181]]]\n"
     ]
    }
   ],
   "source": [
    "#to do changes on any image, firstly you've to do it into grayscale\n",
    "print(img)"
   ]
  },
  {
   "cell_type": "code",
   "execution_count": 5,
   "id": "d75dc81b",
   "metadata": {},
   "outputs": [],
   "source": [
    "img_g = cv2.cvtColor(img, cv2.COLOR_BGR2GRAY)"
   ]
  },
  {
   "cell_type": "code",
   "execution_count": 6,
   "id": "9bd9a367",
   "metadata": {},
   "outputs": [],
   "source": [
    "# Canny(image, threshold1, threshold2)\n",
    "# Computing Edge Gradient with canny thresholds\n",
    "# The edge gradients that are greater tha threshold value will be detected as Edges\n",
    "# thresholds lower than threshold1 will not be considered as edges.\n",
    "edges_low = cv2.Canny(img_g, 50, 120)\n",
    "cv2.imshow('Edge Detection', edges_low)"
   ]
  },
  {
   "cell_type": "code",
   "execution_count": 7,
   "id": "3e3b56b5",
   "metadata": {},
   "outputs": [],
   "source": [
    "edges_high = cv2.Canny(img_g, 110, 200)\n",
    "cv2.imshow('High Edge Detection', edges_high)\n",
    "\n",
    "# press any key with 0 wait time\n",
    "cv2.waitKey(0)\n",
    "# Close all imageframe\n",
    "cv2.destroyAllWindows()"
   ]
  }
 ],
 "metadata": {
  "kernelspec": {
   "display_name": "Python 3 (ipykernel)",
   "language": "python",
   "name": "python3"
  },
  "language_info": {
   "codemirror_mode": {
    "name": "ipython",
    "version": 3
   },
   "file_extension": ".py",
   "mimetype": "text/x-python",
   "name": "python",
   "nbconvert_exporter": "python",
   "pygments_lexer": "ipython3",
   "version": "3.11.5"
  }
 },
 "nbformat": 4,
 "nbformat_minor": 5
}
